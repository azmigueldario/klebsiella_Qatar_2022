{
 "cells": [
  {
   "cell_type": "markdown",
   "id": "572b6de8-6138-4797-bcd6-ea6d07e654ee",
   "metadata": {},
   "source": [
    "# cg SNP of S. pluranimalium samples\n",
    "\n",
    "## Running the snippy workflow of bactopia \n",
    "\n",
    "Samples sequenced by MinION were provided by Jun m"
   ]
  },
  {
   "cell_type": "code",
   "execution_count": null,
   "id": "f21533f8-7d87-49c4-b1e6-11d85444f455",
   "metadata": {},
   "outputs": [],
   "source": [
    "First, I create a local copy of the samples and store them in a correct format. \n",
    "To be used by bactopia:\n",
    "    - Each directory must represent a sample by name\n",
    "    - Sample directories must have a subdirectory called assembly which contains the contigs\n",
    "    "
   ]
  },
  {
   "cell_type": "code",
   "execution_count": null,
   "id": "ba154814-97de-416a-8449-00b8a3b45f68",
   "metadata": {},
   "outputs": [],
   "source": [
    "# structure for assemblies in bactopia\n",
    "sample name\n",
    "-- asemblt\n",
    "----contigs.fa\n",
    "\n",
    "# running workflow\n",
    "... bactopia --wf snippy ..."
   ]
  },
  {
   "cell_type": "code",
   "execution_count": null,
   "id": "89d6e170-1595-4992-be36-988f2571ba50",
   "metadata": {},
   "outputs": [],
   "source": [
    "cp -r ~/projects/rrg-whsiao-ab/globus_share/minion_data/2022/result_spluranimalium_AHC_2022/combined/5.0.assembly/* \\\n",
    "    /project/6056895/mdprieto/2023_strep_pluranimalium/\n",
    "\n",
    "# in the target directory, remove all but assembly dir\n",
    "find ./barcode* -mindepth 1 ! -regex '^./barcode.*/assembly.fasta' -delete\n",
    "\n",
    "# then, create assembly subdir and put the assembly there compressed\n",
    "for i in $(ls -d bar*)\n",
    "    do \n",
    "    mkdir $i/assembly\n",
    "    mv $i/assembly.fasta $i/assembly/$i.fna\n",
    "    gzip $i/assembly/$i.fna\n",
    "    done\n",
    "\n",
    "# and rename the contigs file\n",
    "    for i in $(ls .)\n",
    "    do \n",
    "    cp $i/assembly/draft_assembly.fasta $i/assembly/$i.fna\n",
    "    done"
   ]
  },
  {
   "cell_type": "code",
   "execution_count": null,
   "id": "7f336b36-467a-4071-a7ec-83a2df1d1d26",
   "metadata": {},
   "outputs": [],
   "source": [
    "samples=\"/project/6056895/mdprieto/s_pluranimalium_2023\"\n",
    "reference=\"/project/6056895/mdprieto/references/GCF_002953735.1_ASM295373v1_genomic.gbff\""
   ]
  },
  {
   "cell_type": "code",
   "execution_count": null,
   "id": "1e23b95a-e108-4a86-a966-122292e9bdc2",
   "metadata": {},
   "outputs": [],
   "source": [
    "#!/bin/bash\n",
    "#SBATCH --account=rrg-whsiao-ab\n",
    "#SBATCH --mem-per-cpu=12G #  GB of memory per cpu core\n",
    "#SBATCH --time=02:00:00\n",
    "#SBATCH --ntasks=1 # tasks in parallel / number of cores\n",
    "#SBATCH --cpus-per-task=8 # number of cores per task\n",
    "#SBATCH --job-name=\"s_pluranimalium_20230111\"\n",
    "#SBATCH --chdir=/scratch/mdprieto/\n",
    "#SBATCH --output=./temp_results/%j_pluranimalium_jan11.out\n",
    "\n",
    "################################## preparation #########################################\n",
    "\n",
    "# load singularity and nextflow\n",
    "module load singularity\n",
    "module load nextflow\n",
    "\n",
    "# save paths to directories\n",
    "samples=\"/project/6056895/mdprieto/s_pluranimalium_2023\"\n",
    "reference=\"/project/6056895/mdprieto/references/GCF_002953735.1_ASM295373v1_genomic.gbff\"\n",
    "\n",
    "# define new temp folders for singularity and nextflow\n",
    "mkdir -p /scratch/$USER/singularity/tmp\n",
    "export SINGULARITY_CACHEDIR=\"/project/6007413/cidgoh_share/singularity_imgs\"\n",
    "export SINGULARITY_TMPDIR=\"/scratch/$USER/singularity/tmp\"\n",
    "export NXF_SINGULARITY_LIBRARYDIR=\"/project/6007413/cidgoh_share/singularity_imgs\"\n",
    "export SINGULARITYENV_APPEND_PATH=$PATH\n",
    "\n",
    "################################## nextflow run #########################################\n",
    "\n",
    "nextflow run bactopia/bactopia -r v2.1.1 -with-singularity bactopia_2.1.1.sif \\\n",
    "    -profile singularity \\\n",
    "    --wf snippy \\\n",
    "    --bactopia $samples \\\n",
    "    --include include.txt \\\n",
    "    --reference $refere nce\n"
   ]
  },
  {
   "cell_type": "markdown",
   "id": "75331496-786f-4d27-9944-91a809e7e681",
   "metadata": {},
   "source": [
    "#### Note \n",
    "\n",
    "Unfortunately bactopia will run `snippy` workflow only on assemblies produced inside the same pipeline. Also, `snippy` is configured to run based on reads and for this exercise, we want to quickly analyze the already assembled/QC genomes. \n",
    "\n",
    "Thus, I will explore either running the whole bactopia pipeline from scratch using the raw reads or as a better alternative, run `snippy` outside of bactopia. "
   ]
  },
  {
   "cell_type": "markdown",
   "id": "786ef6ea-d33c-469e-89c0-3d588512dd14",
   "metadata": {},
   "source": [
    "## Try snippy alone"
   ]
  },
  {
   "cell_type": "markdown",
   "id": "e585bbe7-8780-4943-a77f-2db73832104f",
   "metadata": {},
   "source": [
    "In case snippy needs to be installed, not automatically available in Cedar cluster"
   ]
  },
  {
   "cell_type": "code",
   "execution_count": null,
   "id": "b9ab3ebe-f55c-4eeb-add4-659ed8b3d754",
   "metadata": {},
   "outputs": [],
   "source": [
    "singularity_imgs=\"/project/6007413/cidgoh_share/singularity_imgs\"\n",
    "cd $singularity_imgs\n",
    "\n",
    "singularity build snippy_4.6.0.sif https://depot.galaxyproject.org/singularity/snippy%3A4.6.0--hdfd78af_2"
   ]
  },
  {
   "cell_type": "markdown",
   "id": "b9098a51-b5b7-4edf-9d81-fbd5971d8e0c",
   "metadata": {},
   "source": [
    "### Preparation for snippy run\n",
    "\n",
    "\n",
    "To analyze multiple sequences, `snippy` requires a tab file where the first column is the sample name and the second column is the `PATH` to the reads or assembly.\n",
    "\n",
    "To generate the file, we run the following commands in the directory containing the assemblies. "
   ]
  },
  {
   "cell_type": "code",
   "execution_count": null,
   "id": "571d2121-bc06-4123-9dc7-fe7d8647234e",
   "metadata": {},
   "outputs": [],
   "source": [
    "# change to genomic data directory\n",
    "cd /project/6056895/mdprieto/2023_strep_pluranimalium \n",
    "\n",
    "# extract all sequences\n",
    "for i in $(ls -d barcode*)\n",
    "    do\n",
    "    gzip -d /project/6056895/mdprieto/2023_strep_pluranimalium/$i/assembly/$i.fna.gz\n",
    "    done\n",
    "\n",
    "# paste all info in a file\n",
    "find /project/6056895/mdprieto/2023_strep_pluranimalium -name 'barcode*' -type f | \\\n",
    "    sort > filenames.tab\n",
    "ls -d barcode* >> filenames.tab\n",
    "\n",
    "# use paste and regex to paste as needed\n",
    "paste <(grep -E '^barcode.*' filenames.tab) \\\n",
    "      <(grep -E '^/project.*' filenames.tab) \\\n",
    "    > filenames_snippy.tab\n",
    "\n",
    "# create a subset of samples (n=3) for testing in new file\n",
    "head -n 3 filenames_snippy.tab > trial_snippy.tab"
   ]
  },
  {
   "cell_type": "markdown",
   "id": "33d01734-a6e4-4744-bac1-df5afde6cd67",
   "metadata": {},
   "source": [
    "### Testing and running snippy\n",
    "\n",
    "Establish an interactive session to test how it works in a few samples only"
   ]
  },
  {
   "cell_type": "code",
   "execution_count": null,
   "id": "d2d13021-2d15-4ad6-938c-7c2953be3480",
   "metadata": {},
   "outputs": [],
   "source": [
    "salloc --time=1:30:0 --cpus-per-task=8 --mem 16G --account=rrg-whsiao-ab"
   ]
  },
  {
   "cell_type": "markdown",
   "id": "8299b167-57e6-4c02-85d9-fd35329f5dff",
   "metadata": {},
   "source": [
    "First, we will load the necessary modules (`singularity`) and create environmental variables that will make our coding easier later.\n"
   ]
  },
  {
   "cell_type": "code",
   "execution_count": 3,
   "id": "db941a4a-a571-484c-a399-4270b8a28abc",
   "metadata": {},
   "outputs": [
    {
     "ename": "SyntaxError",
     "evalue": "invalid syntax (2671485475.py, line 1)",
     "output_type": "error",
     "traceback": [
      "\u001b[0;36m  Cell \u001b[0;32mIn [3], line 1\u001b[0;36m\u001b[0m\n\u001b[0;31m    module load singularity\u001b[0m\n\u001b[0m           ^\u001b[0m\n\u001b[0;31mSyntaxError\u001b[0m\u001b[0;31m:\u001b[0m invalid syntax\n"
     ]
    }
   ],
   "source": [
    "module load singularity\n",
    "cd ~/scratch\n",
    "\n",
    "# create environment variables for PATH to genomes, reference, input.tab, and mount drives\n",
    "singularity_imgs=\"/project/6007413/cidgoh_share/singularity_imgs\"\n",
    "ref_pluranimailum=\"/project/6056895/mdprieto/references/GCF_002953735.1_ASM295373v1_genomic.fna\"\n",
    "genomes_dir=\"/project/6056895/mdprieto/2023_strep_pluranimalium\"\n",
    "BIND_MOUNT=\"-B /home -B /project -B /scratch -B /localscratch\"\n",
    "\n",
    "# establish cache and tmp for singularity in scratch, project dir is read_only\n",
    "export SINGULARITY_CACHEDIR=\"/project/6007413/cidgoh_share/singularity_imgs\"\n",
    "export SINGULARITY_TMPDIR=\"/scratch/$USER/singularity/tmp\""
   ]
  },
  {
   "cell_type": "markdown",
   "id": "58537338-0a8a-48dc-8a7c-69d48b5576b8",
   "metadata": {},
   "source": [
    "For the `snippy` run, we will call the container from singularity. \n",
    "\n",
    "In `snippy-multi` we can produce all the commands necessary to run core SNP from a set of samples with a common reference. \n",
    "The results are saved in a script that can be run from the shell. \n",
    "\n",
    "**Issues:**\n",
    "1. The tool did not read the reference in `.gbff` format, so we are adding the files in fasta format `.fna`\n",
    "2. Not sure why, the fasta files mus be uncompressed\n",
    "3. Run in scratch, results will be saved in a subfolder"
   ]
  },
  {
   "cell_type": "code",
   "execution_count": null,
   "id": "030eb18b-c2f6-4c49-b51b-37c2dc4f80a6",
   "metadata": {},
   "outputs": [],
   "source": [
    "# for trial run replace input file with trial_snippy.tab\n",
    "\n",
    "singularity exec $BIND_MOUNT \\\n",
    "    $singularity_imgs/snippy_4.6.0.sif snippy-multi \\\n",
    "    $genomes_dir/filenames_snippy.tab \\\n",
    "    --ref $ref_pluranimailum \\\n",
    "    --cpus 8 \\\n",
    "    --force | \\\n",
    "sed -e 's#^#singularity exec -B /home -B /project -B /scratch -B /localscratch /project/6007413/cidgoh_share/singularity_imgs/snippy_4.6.0.sif #' > /scratch/mdprieto/scripts/pluranimalium_snippy.sh\n",
    "\n",
    "less /scratch/mdprieto/scripts/pluranimalium_snippy.sh   # check the script makes sense"
   ]
  },
  {
   "cell_type": "code",
   "execution_count": null,
   "id": "c0b6c933-ffe9-4601-873a-fd057cac04ec",
   "metadata": {},
   "outputs": [],
   "source": [
    "Now, we can simply run the script we designed directly on an interactive allocation of as part of a job to the cluster. \n",
    "It should return results for every sample inside a specific directory and a summary of the core genome SNP."
   ]
  },
  {
   "cell_type": "code",
   "execution_count": null,
   "id": "9805bda3-169f-475a-b708-2461ef28d8fd",
   "metadata": {},
   "outputs": [],
   "source": [
    "# change dir so the results are placed where we want\n",
    "cd /scratch/mdprieto/temp_results/s_plurianimalium\n",
    "\n",
    "sh /scratch/mdprieto/scripts/pluranimalium_snippy.sh "
   ]
  },
  {
   "cell_type": "code",
   "execution_count": null,
   "id": "bf548c06-f18c-488b-b152-fb75ad15c2f6",
   "metadata": {},
   "outputs": [],
   "source": [
    "singularity exec $BIND_MOUNT $singularity_imgs/snippy_4.6.0.sif \\\n",
    "    snippy-clean_full_aln \\\n",
    "    core.full.aln > clean.full.aln"
   ]
  },
  {
   "cell_type": "markdown",
   "id": "f64bc7dd-20d4-46c7-b17f-bca2faead861",
   "metadata": {},
   "source": [
    "#### Gubbins\n",
    "\n",
    "`Gubbins` is a software to eliminate the impact of horizontal gene transfer in bacterial genomes over SNV calling. In this case we have a singularity container with the software and we apply it to the final alignment produced by `snippy` [clean.full.aln]\n",
    "\n",
    "As our samples had a large number of missing data, we specify a high threshold for filtering and add the prefix 'gubbins' to all output files. "
   ]
  },
  {
   "cell_type": "code",
   "execution_count": null,
   "id": "1f5dc8e5-f1ac-42ff-8c86-106bd1731793",
   "metadata": {},
   "outputs": [],
   "source": [
    "cd /scratch/mdprieto/temp_results/s_plurianimalium\n",
    "\n",
    "singularity exec $BIND_MOUNT $singularity_imgs/depot.galaxyproject.org-singularity-gubbins-3.2.1--py39pl5321h87d955d_0.img \\\n",
    "    run_gubbins.py \\\n",
    "    --filter-percentage 40 \\\n",
    "    -p gubbins \\\n",
    "    clean.full.aln "
   ]
  },
  {
   "cell_type": "markdown",
   "id": "8668e4a0-46aa-4a18-ae85-b8c98318507b",
   "metadata": {},
   "source": [
    "#### Calculate SNP distances amomng samples \n",
    "\n",
    "After filtering and removing recombination sites, we calculate the SNP distances among all samples available for this analysis using `snp-dists` which is contained in `snippy`. "
   ]
  },
  {
   "cell_type": "code",
   "execution_count": null,
   "id": "08a95ae0-9cd5-4fb7-b4c9-5fe8a4396dce",
   "metadata": {},
   "outputs": [],
   "source": [
    "singularity exec $BIND_MOUNT $singularity_imgs/snippy_4.6.0.sif \\\n",
    "    snp-sites -c gubbins.filtered_polymorphic_sites.fasta \\\n",
    "    > clean.core.aln    "
   ]
  },
  {
   "cell_type": "markdown",
   "id": "06e90f9c-7c3d-4c25-8f7d-37744b31dead",
   "metadata": {},
   "source": [
    "#### Produce a tree of SNV distances\n",
    "\n",
    "We use `IQtree` as in **bactopia** to produce a phylogenetic tree based on core genome SNV distances. \n",
    "\n",
    "The tool is available in **Cedar**, so we load it using spider and the apply the tree building algorithm to the results obtained in previous steps."
   ]
  },
  {
   "cell_type": "code",
   "execution_count": null,
   "id": "1f551f30-3f02-4732-bfe2-2eb65320fd69",
   "metadata": {},
   "outputs": [],
   "source": [
    "module load StdEnv/2020  gcc/9.3.0 iq-tree/2.2.1\n",
    "\n",
    "iqtree2 -s clean.core.aln\n",
    "\n"
   ]
  },
  {
   "cell_type": "code",
   "execution_count": null,
   "id": "e72b71e1-811b-438a-bf09-4a6229ab9ad0",
   "metadata": {},
   "outputs": [],
   "source": []
  },
  {
   "cell_type": "code",
   "execution_count": null,
   "id": "fa33c170-8a66-4de7-9309-b4a2ae36a992",
   "metadata": {},
   "outputs": [],
   "source": []
  }
 ],
 "metadata": {
  "kernelspec": {
   "display_name": "Python 3 (ipykernel)",
   "language": "python",
   "name": "python3"
  },
  "language_info": {
   "codemirror_mode": {
    "name": "ipython",
    "version": 3
   },
   "file_extension": ".py",
   "mimetype": "text/x-python",
   "name": "python",
   "nbconvert_exporter": "python",
   "pygments_lexer": "ipython3",
   "version": "3.11.0"
  }
 },
 "nbformat": 4,
 "nbformat_minor": 5
}
