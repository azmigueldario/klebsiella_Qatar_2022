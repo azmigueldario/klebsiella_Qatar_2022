{
 "cells": [
  {
   "cell_type": "markdown",
   "id": "150bb43a-8e18-49dc-a1f1-d0d0bbddf1eb",
   "metadata": {},
   "source": [
    "# Analysis of _Klebsiella pneumoniae_ isolates from Qatar\n",
    "\n",
    "We will employ the tool `Bactopia` for most analysis in the pipeline.\n",
    "\n",
    "Steps to prepare the tool:\n",
    "1. Compute canada does not allow use of Anaconda to avoid conflicts between tools. Fortunately, we can install a container with the tool. `Singularity` can be load directly into Compute Canada (CC).\n",
    "2. Pull the singularity container of Bactopia to our scratch directory. Use a compute node to build it\n"
   ]
  },
  {
   "cell_type": "code",
   "execution_count": 1,
   "id": "a6389016-9443-4f87-9ec4-f427b1e34521",
   "metadata": {},
   "outputs": [
    {
     "ename": "SyntaxError",
     "evalue": "invalid decimal literal (546294115.py, line 5)",
     "output_type": "error",
     "traceback": [
      "\u001b[0;36m  Cell \u001b[0;32mIn [1], line 5\u001b[0;36m\u001b[0m\n\u001b[0;31m    singularity pull bactopia_2.1.1.sif https://depot.galaxyproject.org/singularity/bactopia%3A2.1.1--hdfd78af_0\u001b[0m\n\u001b[0m                                                                                             ^\u001b[0m\n\u001b[0;31mSyntaxError\u001b[0m\u001b[0;31m:\u001b[0m invalid decimal literal\n"
     ]
    }
   ],
   "source": [
    "module load singularity/3.8\n",
    "\n",
    "cd /scratch/mdprieto/\n",
    "\n",
    "singularity pull bactopia_2.1.1.sif https://depot.galaxyproject.org/singularity/bactopia%3A2.1.1--hdfd78af_0"
   ]
  },
  {
   "cell_type": "markdown",
   "id": "daf1e8d8-ae5c-4a43-80f9-ea3c3a5b3e4f",
   "metadata": {},
   "source": [
    "## Clean target files and prepare list of files for assembly\n",
    "\n",
    "Bactopia requires a text file with metadata of all `fastq` input files (`PATHS`, sequencing type and filenames). \n",
    "\n",
    "A short script is included to produce the necessary format. "
   ]
  },
  {
   "cell_type": "code",
   "execution_count": null,
   "id": "30b3e7ee-ffba-4b43-aca8-7cc521540539",
   "metadata": {},
   "outputs": [],
   "source": [
    "# Location of raw data in CC\n",
    "~/project_mdprieto/qatar_klebsiella/\n",
    "\n",
    "cd /project/6056895/mdprieto/qatar_klebsiella/all_isolates\n",
    "ls *fastq\n",
    "gzip *fastq\n",
    "date\n",
    "\n",
    "# path to github repo for project in CC\n",
    "kleb_git=\"/home/mdprieto/git/klebsiella_Qatar_2022/input\"\n",
    "\n",
    "# mount the drives so singularity can read and write from them \n",
    "# we require the home, scratch and project directories\n",
    "singularity exec -B /home -B /project -B /scratch bactopia_2.1.1.sif bactopia prepare \\\n",
    "    --fastq_ext \"_001.fastq.gz\" \\\n",
    "    /project/6056895/mdprieto/qatar_klebsiella/all_isolates/ \\\n",
    "    > /home/mdprieto/git/klebsiella_Qatar_2022/input/kleb_qatar_fofn.txt"
   ]
  },
  {
   "cell_type": "markdown",
   "id": "33952c32-6511-4862-b7fa-120df60d36a3",
   "metadata": {},
   "source": [
    "## Setup datasets for analysis (`datasets_kleb_bactopia.sh`)\n",
    "\n",
    "We run the `bactopia datasets` to download and setup all necessary external data for antimicrobial resistance analysis, QC of genome assembly, and phylogenetic reconstruction. \n",
    "\n",
    "The focus is in datasets for _Klebsiella pneumoniae_. After several tries, the singularity tool for bactopia must be run in a clear environment that ignores environmental variables from cedar (`exec -e)"
   ]
  },
  {
   "cell_type": "code",
   "execution_count": null,
   "id": "c749181a-563d-4a8d-b9fa-cc32f96f572c",
   "metadata": {},
   "outputs": [],
   "source": [
    "#!/bin/bash\n",
    "#SBATCH --account=rrg-whsiao-ab\n",
    "#SBATCH --mem-per-cpu=4G #  GB of memory per cpu core\n",
    "#SBATCH --time=02:30:00\n",
    "#SBATCH --ntasks=4 # tasks in parallel\n",
    "#SBATCH --job-name=\"setup_datasets_bactopia\"\n",
    "#SBATCH --chdir=/scratch/mdprieto/\n",
    "#SBATCH --output=./temp_results/%j_error_log.out\n",
    "\n",
    "################################## preparation #########################################\n",
    "\n",
    "# load singularity\n",
    "module purge\n",
    "module load singularity/3.8\n",
    "\n",
    "# mount my filesystem inside container, localscratch allows job to use compute node temp folder\n",
    "BIND_MOUNT=\"-B /home -B /project -B /scratch -B /localscratch \"\n",
    "\n",
    "################################## BACTOPIA  #########################################\n",
    "\n",
    "singularity exec -e $BIND_MOUNT bactopia_2.1.1.sif bactopia datasets \\\n",
    "    --species \"Klebsiella pneumoniae\" \\\n",
    "    --include_genus \\\n",
    "    --cpu 4 \\\n",
    "    --verbose"
   ]
  },
  {
   "cell_type": "markdown",
   "id": "9089a681-c8d5-47ff-afb7-6704e0f06bed",
   "metadata": {},
   "source": [
    "## Main workflow for bactopia\n",
    "\n",
    "I will use the previously defined that contains directions for fastqc. \n",
    "- First, I validate that the samples are correctly specified."
   ]
  },
  {
   "cell_type": "code",
   "execution_count": null,
   "id": "dd8e0877-666a-4c18-affd-8495c7245cb1",
   "metadata": {},
   "outputs": [],
   "source": [
    "#!/bin/bash\n",
    "#SBATCH --account=rrg-whsiao-ab\n",
    "#SBATCH --mem-per-cpu=8G #  GB of memory per cpu core\n",
    "#SBATCH --time=01:00:00\n",
    "#SBATCH --ntasks=16 # tasks in parallel / number of cores\n",
    "#SBATCH --job-name=\"main_workflow_bactopia\"\n",
    "#SBATCH --chdir=/scratch/mdprieto/\n",
    "#SBATCH --output=./temp_results/%j_main_bactopia.out\n",
    "\n",
    "################################## preparation #########################################\n",
    "\n",
    "# load singularity\n",
    "module purge\n",
    "module load singularity/3.8\n",
    "odule load nextflow/22.04.3\n",
    "\n",
    "# mount my filesystem inside container, localscratch allows job to use compute node temp folder\n",
    "BIND_MOUNT=\"-B /home -B /project -B /scratch -B /localscratch -B /localscratch:/temp\"\n",
    "\n",
    "# git directory with input variables\n",
    "kleb_git=\"/home/mdprieto/git/klebsiella_Qatar_2022/input\"\n",
    "\n",
    "# make output directory if necessary\\\n",
    "mkdir -p /scratch/mdprieto/temp_results/bactopia_output/\n",
    "\n",
    "# define new temp folders for singularity\n",
    "mkdir -p /scratch/$USER/singularity/{cache,tmp}\n",
    "export SINGULARITY_CACHEDIR=\"/scratch/$USER/singularity/cache\"\n",
    "export SINGULARITY_TMPDIR=\"/scratch/$USER/singularity/tmp\"\n",
    "\n",
    "################################## BACTOPIA  #########################################\n",
    "\n",
    "singularity exec -e $BIND_MOUNT bactopia_2.1.1.sif bactopia \\\n",
    "    --samples $kleb_git/kleb_qatar_fofn.txt \\\n",
    "    --datasets /scratch/mdprieto/datasets \\\n",
    "    --outdir /scratch/mdprieto/temp_results/bactopia_output/ \\\n",
    "    --species \"Klebsiella pneumoniae\" \\\n",
    "    --genome_size median \\\n",
    "    --cleanup_workdir \\\n",
    "    --singularity_cache $SINGULARITY_CACHEDIR \\\n",
    "    --max_cpus 4 \\\n",
    "    --verbose"
   ]
  },
  {
   "cell_type": "code",
   "execution_count": null,
   "id": "da8a38b0-997a-48df-9192-2a474554a3dd",
   "metadata": {},
   "outputs": [],
   "source": []
  },
  {
   "cell_type": "code",
   "execution_count": null,
   "id": "c52e510b-7a70-47b1-ab6c-c4789643105c",
   "metadata": {},
   "outputs": [],
   "source": []
  },
  {
   "cell_type": "code",
   "execution_count": null,
   "id": "070401ce-849d-4731-88c5-30b293d44527",
   "metadata": {},
   "outputs": [],
   "source": []
  },
  {
   "cell_type": "code",
   "execution_count": null,
   "id": "c0386aaf-011c-4048-aec7-7a65a1e2e333",
   "metadata": {},
   "outputs": [],
   "source": []
  },
  {
   "cell_type": "markdown",
   "id": "d8d8873f-aee2-4558-9816-9d1fb614eca5",
   "metadata": {},
   "source": [
    "### Script to run bactopia datasets with nextflow"
   ]
  },
  {
   "cell_type": "code",
   "execution_count": null,
   "id": "eb304b22-de1c-4b1e-90c1-5c1ee2c70ffc",
   "metadata": {},
   "outputs": [],
   "source": [
    "#!/bin/bash\n",
    "#SBATCH --account=def-whsiao-ab\n",
    "#SBATCH --mem-per-cpu=10G #  GB of memory per cpu core\n",
    "#SBATCH --time=00:30:00\n",
    "#SBATCH --ntasks=1 # tasks in parallel\n",
    "#SBATCH --cpus-per-task=1 # CPU cores per task\n",
    "#SBATCH --job-name=\"test_bactopia\"\n",
    "#SBATCH --chdir=/scratch/mdprieto/\n",
    "#SBATCH --output=./temp_results/git_bactopia_test.out\n",
    "#SBATCH --mail-user=mprietog@sfu.ca\n",
    "#SBATCH --mail-type=END\n",
    "\n",
    "################################## preparation #########################################\n",
    "\n",
    "# load singularity and python\n",
    "module purge\n",
    "module load python/3.8.2 nextflow/22.04.3\n",
    "\n",
    "# PATH to bactopia\n",
    "bactopia_app='/scratch/mdprieto/bactopia/bin/bactopia'\n",
    "\n",
    "################################## BACTOPIA  #########################################\n",
    "\n",
    "# start environment with dependencies\n",
    "source /home/mdprieto/bactopia_miguel/bin/activate\n",
    "\n",
    "# run bactopia \n",
    "nextflow run $bactopia_app/bactopia-datasets.py"
   ]
  },
  {
   "cell_type": "markdown",
   "id": "d75cfeb0-cffd-4266-ac47-599aa4347baf",
   "metadata": {},
   "source": [
    "### Script to run full bactopia with nextflow"
   ]
  },
  {
   "cell_type": "code",
   "execution_count": null,
   "id": "413943fe-86ec-40ef-864e-6f6316e7f5a7",
   "metadata": {},
   "outputs": [],
   "source": [
    "#!/bin/bash\n",
    "#SBATCH --account=def-whsiao-ab\n",
    "#SBATCH --mem-per-cpu=10G #  GB of memory per cpu core\n",
    "#SBATCH --time=00:40:00\n",
    "#SBATCH --ntasks=6 # tasks in parallel\n",
    "#SBATCH --cpus-per-task=1 # CPU cores per task\n",
    "#SBATCH --job-name=\"test_bactopia\"\n",
    "#SBATCH --chdir=/scratch/mdprieto/\n",
    "#SBATCH --output=./temp_results/git_bactopia_test.out\n",
    "#SBATCH --mail-user=mprietog@sfu.ca\n",
    "#SBATCH --mail-type=END\n",
    "\n",
    "################################## preparation #########################################\n",
    "\n",
    "# load singularity and python\n",
    "module load python/3.8.2 nextflow/22.04.3\n",
    "\n",
    "# file of filenames \n",
    "kleb_fofn=\"/home/mdprieto/git/klebsiella_Qatar_2022/input/kpneu_qatar_fofn.txt\"\n",
    "\n",
    "# PATH to bactopia\n",
    "main_nf='/scratch/mdprieto/bactopia/main.nf'\n",
    "\n",
    "# create variables and output dir\n",
    "OUTPUT_DIR=\"/scratch/mdprieto/temp_results/\"\n",
    "INPUT_DIR=\"/project/6056895/mdprieto/hilliam_pseudomonas/bronchiectasis_reads\"\n",
    "\n",
    "################################## BACTOPIA  #########################################\n",
    "\n",
    "# start environment with dependencies\n",
    "source /home/mdprieto/bactopia_miguel/bin/activate\n",
    "\n",
    "# run bactopia\n",
    "nextflow run $main.nf datasets"
   ]
  },
  {
   "cell_type": "code",
   "execution_count": null,
   "id": "422d3576-5518-4936-9834-4767b47bcbf9",
   "metadata": {},
   "outputs": [],
   "source": []
  },
  {
   "cell_type": "code",
   "execution_count": null,
   "id": "2062119d-6be9-4d72-8414-36ce044628df",
   "metadata": {},
   "outputs": [],
   "source": []
  },
  {
   "cell_type": "code",
   "execution_count": null,
   "id": "e039bd77-b2dd-4a11-a407-39bf62b99a19",
   "metadata": {},
   "outputs": [],
   "source": []
  },
  {
   "cell_type": "markdown",
   "id": "92c1c821-ae9e-4270-938f-042b25ae1543",
   "metadata": {},
   "source": [
    "## Trying to run Bactopia from singularity container"
   ]
  },
  {
   "cell_type": "code",
   "execution_count": null,
   "id": "23173ef2-a83a-4892-bca3-bf0039049152",
   "metadata": {},
   "outputs": [],
   "source": [
    "## trying to install latest singularity image into scratch directory\n",
    "cd /home/mdprieto/scratch\n",
    "\n",
    "# run inside a job\n",
    "singularity pull oras://ghcr.io/bactopia/bactopia:2.1.1"
   ]
  },
  {
   "cell_type": "code",
   "execution_count": null,
   "id": "442f5d29-0a19-4925-bc80-c2ad087a15d9",
   "metadata": {},
   "outputs": [],
   "source": [
    "#!/bin/bash\n",
    "#SBATCH --account=def-whsiao-ab\n",
    "#SBATCH --mem-per-cpu=40G #  GB of memory per cpu core\n",
    "#SBATCH --time=00:30:00\n",
    "#SBATCH --ntasks=1 # tasks in parallel\n",
    "#SBATCH --cpus-per-task=1 # CPU cores per task\n",
    "#SBATCH --job-name=\"test_bactopia\"\n",
    "#SBATCH --chdir=/scratch/mdprieto/\n",
    "#SBATCH --output=./temp_results/bactopia_test.out\n",
    "#SBATCH --mail-user=mprietog@sfu.ca\n",
    "#SBATCH --mail-type=END\n",
    "\n",
    "################################## preparation #########################################\n",
    "\n",
    "# load singularity\n",
    "module purge\n",
    "module load singularity/3.8 python/3.10.2 nextflow/22.04.3\n",
    "\n",
    "# mount my filesystem inside container, localscratch allows job to use compute node temp folder\n",
    "BIND_MOUNT=\"-B /home -B /project -B /scratch -B /localscratch -B /localscratch:/temp\"\n",
    "\n",
    "################################## BACTOPIA  #########################################\n",
    "\n",
    "# start environment with dependencies\n",
    "source /home/mdprieto/bactopia_miguel/bin/activate\n",
    "module load python/3.10.2\n",
    "\n",
    "# run bactopia container\n",
    "cd /scratch/mdprieto/\n",
    "singularity exec $BIND_MOUNT bactopia_2.1.1.sif bactopia datasets"
   ]
  },
  {
   "cell_type": "code",
   "execution_count": null,
   "id": "6ce37f83-4f26-4aa7-a9f8-30f6fd6c59bc",
   "metadata": {},
   "outputs": [],
   "source": []
  },
  {
   "cell_type": "code",
   "execution_count": null,
   "id": "3b545390-7b1c-454f-96ab-c3dbcd89dd98",
   "metadata": {},
   "outputs": [],
   "source": []
  },
  {
   "cell_type": "markdown",
   "id": "0839dc99-0fc8-40da-8a13-c5dfe90e158a",
   "metadata": {},
   "source": [
    "## 20221102 This one seems to be working"
   ]
  },
  {
   "cell_type": "code",
   "execution_count": null,
   "id": "a6cdc922-83a2-4272-bcaa-d146901881e7",
   "metadata": {},
   "outputs": [],
   "source": [
    "#!/bin/bash\n",
    "#SBATCH --account=rrg-whsiao-ab\n",
    "#SBATCH --mem-per-cpu=4G #  GB of memory per cpu core\n",
    "#SBATCH --time=00:30:00\n",
    "#SBATCH --ntasks=1 # tasks in parallel\n",
    "#SBATCH --cpus-per-task=4 # CPU cores per task\n",
    "#SBATCH --job-name=\"test_bactopia_Nov2\"\n",
    "#SBATCH --chdir=/scratch/mdprieto/\n",
    "#SBATCH --output=./temp_results/Nov2_bactopia.out\n",
    "\n",
    "################################## preparation #########################################\n",
    "\n",
    "# load singularity\n",
    "module purge\n",
    "module load singularity/3.8\n",
    "\n",
    "# mount my filesystem inside container, localscratch allows job to use compute node temp folder\n",
    "BIND_MOUNT=\"-B /home -B /project -B /scratch -B /localscratch\"\n",
    "\n",
    "# define new temp folders for singularity\n",
    "mkdir -p /scratch/$USER/singularity/{cache,tmp}\n",
    "export SINGULARITY_CACHEDIR=\"/scratch/$USER/singularity/cache\"\n",
    "export SINGULARITY_TMPDIR=\"/scratch/$USER/singularity/tmp\"\n",
    "\n",
    "################################## BACTOPIA  #########################################\n",
    "\n",
    "singularity exec -e $BIND_MOUNT bactopia_2.1.1.sif bactopia datasets \\\n",
    "    --species \"Staphylococcus aureus\" \\\n",
    "    --include_genus \\\n",
    "    --limit 10 \\\n",
    "    --cpu 4  \\\n",
    "    --verbose"
   ]
  },
  {
   "cell_type": "markdown",
   "id": "7b8bde7c-8f50-4a92-ba6b-fee5e5f71cc1",
   "metadata": {},
   "source": [
    "Additional test with Klebsiella and more genomes"
   ]
  },
  {
   "cell_type": "code",
   "execution_count": null,
   "id": "fcdceb59-3af1-46bb-9995-c099f7502373",
   "metadata": {},
   "outputs": [],
   "source": [
    "#!/bin/bash\n",
    "#SBATCH --account=rrg-whsiao-ab\n",
    "#SBATCH --mem-per-cpu=4G #  GB of memory per cpu core\n",
    "#SBATCH --time=00:30:00\n",
    "#SBATCH --ntasks=1 # tasks in parallel\n",
    "#SBATCH --cpus-per-task=4 # CPU cores per task\n",
    "#SBATCH --job-name=\"test_kleb_bactopia_Nov2\"\n",
    "#SBATCH --chdir=/scratch/mdprieto/\n",
    "#SBATCH --output=./temp_results/Nov3_kleb_bactopia.out\n",
    "\n",
    "################################## preparation #########################################\n",
    "\n",
    "# load singularity\n",
    "module purge\n",
    "module load singularity/3.8\n",
    "\n",
    "# mount my filesystem inside container, localscratch allows job to use compute node temp folder\n",
    "BIND_MOUNT=\"-B /home -B /project -B /scratch -B /localscratch\"\n",
    "\n",
    "# define new temp folders for singularity\n",
    "mkdir -p /scratch/$USER/singularity/{cache,tmp}\n",
    "export SINGULARITY_CACHEDIR=\"/scratch/$USER/singularity/cache\"\n",
    "export SINGULARITY_TMPDIR=\"/scratch/$USER/singularity/tmp\"\n",
    "\n",
    "################################## BACTOPIA  #########################################\n",
    "\n",
    "singularity exec -e $BIND_MOUNT bactopia_2.1.1.sif bactopia datasets \\\n",
    "    --species \"Klebsiella pneumoniae\" \\\n",
    "    --include_genus \\\n",
    "    --limit 100 \\\n",
    "    --cpu 4 \\\n",
    "    --verbose"
   ]
  },
  {
   "cell_type": "markdown",
   "id": "79014b05-bcec-45bd-86cd-c871c1637fb3",
   "metadata": {},
   "source": [
    "### Nov 4\n",
    "\n",
    "- Added `-B localscracth:/temp` to solve issue while downloading amrfinder-db\n",
    "    - Worked perfectly apparently"
   ]
  },
  {
   "cell_type": "code",
   "execution_count": null,
   "id": "1b1cfb5a-a23d-4048-9977-63511fe1dca5",
   "metadata": {},
   "outputs": [],
   "source": [
    "#!/bin/bash\n",
    "#SBATCH --account=rrg-whsiao-ab\n",
    "#SBATCH --mem-per-cpu=4G #  GB of memory per cpu core\n",
    "#SBATCH --time=00:30:00\n",
    "#SBATCH --ntasks=1 # tasks in parallel\n",
    "#SBATCH --cpus-per-task=4 # CPU cores per task\n",
    "#SBATCH --job-name=\"1103_kleb_amrfinder\"\n",
    "#SBATCH --chdir=/scratch/mdprieto/\n",
    "#SBATCH --output=temp_results/%j_nov4.out\n",
    "\n",
    "################################## preparation #########################################\n",
    "\n",
    "# load singularity\n",
    "module purge\n",
    "module load singularity/3.8\n",
    "\n",
    "# mount my filesystem inside container, localscratch allows job to use compute node temp folder\n",
    "BIND_MOUNT=\"-B /home -B /project -B /scratch -B /localscratch -B /localscratch:/temp\"\n",
    "\n",
    "# define new temp folders for singularity\n",
    "mkdir -p /scratch/$USER/singularity/{cache,tmp}\n",
    "export SINGULARITY_CACHEDIR=\"/scratch/$USER/singularity/cache\"\n",
    "export SINGULARITY_TMPDIR=\"/scratch/$USER/singularity/tmp\"\n",
    "\n",
    "################################## BACTOPIA  #########################################\n",
    "\n",
    "singularity exec -e $BIND_MOUNT bactopia_2.1.1.sif bactopia datasets \\\n",
    "    --species \"Klebsiella pneumoniae\" \\\n",
    "    --include_genus \\\n",
    "    --limit 100 \\\n",
    "    --cpu 4 \\\n",
    "    --verbose"
   ]
  },
  {
   "cell_type": "markdown",
   "id": "82d38a92-06d0-4a37-bba8-f34cf0e9df7e",
   "metadata": {},
   "source": [
    "Test with S. aureus and 100 genomes\n",
    "- Worked perfectly once again"
   ]
  },
  {
   "cell_type": "code",
   "execution_count": null,
   "id": "9441af5e-fb52-4f51-bdba-cea5a22e820b",
   "metadata": {},
   "outputs": [],
   "source": [
    "#!/bin/bash\n",
    "#SBATCH --account=rrg-whsiao-ab\n",
    "#SBATCH --mem-per-cpu=4G #  GB of memory per cpu core\n",
    "#SBATCH --time=00:30:00\n",
    "#SBATCH --ntasks=1 # tasks in parallel\n",
    "#SBATCH --cpus-per-task=4 # CPU cores per task\n",
    "#SBATCH --job-name=\"Nov4_staph_test\"\n",
    "#SBATCH --chdir=/scratch/mdprieto/\n",
    "#SBATCH --output=temp_results/%j_nov4.out\n",
    "\n",
    "################################## preparation #########################################\n",
    "\n",
    "# load singularity\n",
    "module purge\n",
    "module load singularity/3.8\n",
    "\n",
    "# mount my filesystem inside container, localscratch allows job to use compute node temp folder\n",
    "BIND_MOUNT=\"-B /home -B /project -B /scratch -B /localscratch -B /localscratch:/temp\"\n",
    "\n",
    "# define new temp folders for singularity\n",
    "\n",
    "################################## BACTOPIA  #########################################\n",
    "\n",
    "singularity exec -e $BIND_MOUNT bactopia_2.1.1.sif bactopia datasets \\\n",
    "    --species \"Staphylococcus aureus\" \\\n",
    "    --include_genus \\\n",
    "    --limit 100 \\\n",
    "    --cpu 4 \\\n",
    "    --verbose"
   ]
  },
  {
   "cell_type": "markdown",
   "id": "ff582785-0885-451e-b085-3a7162b7310f",
   "metadata": {},
   "source": [
    "Do not load the `localscratch:temp` and see what happens"
   ]
  },
  {
   "cell_type": "code",
   "execution_count": null,
   "id": "be029af4-2221-4355-8a36-dd1e222a9aff",
   "metadata": {},
   "outputs": [],
   "source": [
    "#!/bin/bash\n",
    "#SBATCH --account=rrg-whsiao-ab\n",
    "#SBATCH --mem-per-cpu=4G #  GB of memory per cpu core\n",
    "#SBATCH --time=00:30:00\n",
    "#SBATCH --ntasks=1 # tasks in parallel\n",
    "#SBATCH --cpus-per-task=4 # CPU cores per task\n",
    "#SBATCH --job-name=\"Nov4_kleb\"\n",
    "#SBATCH --chdir=/scratch/mdprieto/\n",
    "#SBATCH --output=temp_results/%j_nov4.out\n",
    "\n",
    "################################## preparation #########################################\n",
    "\n",
    "# load singularity\n",
    "module purge\n",
    "module load singularity/3.8\n",
    "\n",
    "# mount my filesystem inside container, localscratch allows job to use compute node temp folder\n",
    "BIND_MOUNT=\"-B /home -B /project -B /scratch -B /localscratch\"\n",
    "\n",
    "# define new temp folders for singularity\n",
    "mkdir -p /scratch/$USER/singularity/{cache,tmp}\n",
    "export SINGULARITY_CACHEDIR=\"/scratch/$USER/singularity/cache\"\n",
    "export SINGULARITY_TMPDIR=\"/scratch/$USER/singularity/tmp\"\n",
    "\n",
    "################################## BACTOPIA  #########################################\n",
    "\n",
    "singularity exec -e $BIND_MOUNT bactopia_2.1.1.sif bactopia datasets \\\n",
    "    --species \"Klebsiella pneumoniae\" \\\n",
    "    --include_genus \\\n",
    "    --limit 100 \\\n",
    "    --cpu 4 \\\n",
    "    --verbose"
   ]
  },
  {
   "cell_type": "markdown",
   "id": "91d169f9-c6b7-449a-8718-345732c0ed40",
   "metadata": {},
   "source": [
    "Test # 6, what if I remove the specification of where to cache\n",
    "\n",
    "- It works, even after downloading container again, removing the specification of cache, and clearing all cache"
   ]
  },
  {
   "cell_type": "code",
   "execution_count": null,
   "id": "e27b8305-823d-4acf-b98a-9710f63e0d02",
   "metadata": {},
   "outputs": [],
   "source": [
    "#!/bin/bash\n",
    "#SBATCH --account=rrg-whsiao-ab\n",
    "#SBATCH --mem-per-cpu=4G #  GB of memory per cpu core\n",
    "#SBATCH --time=00:30:00\n",
    "#SBATCH --ntasks=1 # tasks in parallel\n",
    "#SBATCH --cpus-per-task=4 # CPU cores per task\n",
    "#SBATCH --job-name=\"Nov4_kleb\"\n",
    "#SBATCH --chdir=/scratch/mdprieto/\n",
    "#SBATCH --output=temp_results/%j_test6.out\n",
    "\n",
    "################################## preparation #########################################\n",
    "\n",
    "# load singularity\n",
    "module purge\n",
    "module load singularity/3.8\n",
    "\n",
    "# mount my filesystem inside container, localscratch allows job to use compute node temp folder\n",
    "BIND_MOUNT=\"-B /home -B /project -B /scratch -B /localscratch\"\n",
    "\n",
    "################################## BACTOPIA  #########################################\n",
    "\n",
    "singularity exec -e $BIND_MOUNT bactopia_2.1.1.sif bactopia datasets \\\n",
    "    --species \"Campylobacter jejuni\" \\\n",
    "    --include_genus \\\n",
    "    --limit 100 \\\n",
    "    --cpu 4 \\\n",
    "    --verbose"
   ]
  },
  {
   "cell_type": "code",
   "execution_count": null,
   "id": "cda98879-2c17-43d2-9192-7e79349def62",
   "metadata": {},
   "outputs": [],
   "source": []
  },
  {
   "cell_type": "code",
   "execution_count": null,
   "id": "1b8b3fcf-5489-493c-991f-bb4b538d25cb",
   "metadata": {},
   "outputs": [],
   "source": []
  },
  {
   "cell_type": "markdown",
   "id": "129fc5c4-32a1-4220-9590-588a5b3414a8",
   "metadata": {},
   "source": [
    "### Recommendations to setup `Bactopia` in Compute Canada (Cedar) \n",
    "__Contribution of Zohaib Anwar__\n",
    "\n",
    "- Modified requirements for scheduler \n",
    "- Clone modified git repo (dev branch) adapted to function in Compute Canada (CC)\n",
    "- Create directory to save singularity images in the bactopia dir created in CC"
   ]
  },
  {
   "cell_type": "code",
   "execution_count": null,
   "id": "3a1cbef2-2b47-4756-8f43-79af242ad407",
   "metadata": {},
   "outputs": [],
   "source": [
    "# clone bactopia git repo to scratch folder\n",
    "cd /scratch/mdprieto\n",
    "git clone https://github.com/anwarMZ/bactopia.git\n",
    "cd bactopia/\n",
    "\n",
    "# change to dev branch where zohaib adapted it to run in the cedar cluster\n",
    "git status\n",
    "git branch -r\n",
    "git checkout master\n",
    "git checkout origin/dev\n",
    "git log\n",
    "\n",
    "# make directory for singularity storage\n",
    "mkdir -p resources/sge_cache\n",
    "\n",
    "# to run nextflow\n",
    "module load nextflow\n",
    "nextflow run main.nf\n",
    "# modify params.config in bactopia to include as singularity cache your scratch\n",
    "/scratch/mdprieto/bactopia/resources/sge_cache"
   ]
  },
  {
   "cell_type": "markdown",
   "id": "887b5267-4e0f-4dc1-bcf7-d7a53c8108a5",
   "metadata": {},
   "source": [
    "### Meeting with Zohaib - 20221024"
   ]
  },
  {
   "cell_type": "code",
   "execution_count": null,
   "id": "33f16f1d-6af7-4cdf-a75a-3d81f28e3a75",
   "metadata": {},
   "outputs": [],
   "source": [
    "#!/bin/bash\n",
    "#SBATCH --account=rrg-whsiao-ab\n",
    "#SBATCH --mem-per-cpu=12G #  GB of memory per cpu core\n",
    "#SBATCH --time=00:30:00\n",
    "#SBATCH --ntasks=1 # tasks in parallel\n",
    "#SBATCH --cpus-per-task=4 # CPU cores per task\n",
    "#SBATCH --job-name=\"test_bactopia_zohaib\"\n",
    "#SBATCH --chdir=/scratch/mdprieto/\n",
    "#SBATCH --output=./temp_results/sing_bactopia_zohaib.out\n",
    "#SBATCH --mail-user=mprietog@sfu.ca\n",
    "#SBATCH --mail-type=END\n",
    "\n",
    "################################## preparation #########################################\n",
    "\n",
    "# load singularity\n",
    "module load singularity/3.8 nextflow/22.04.3\n",
    "\n",
    "# mount my filesystem inside container, localscratch allows job to use compute node temp folder\n",
    "BIND_MOUNT=\"-B /home -B /project -B /scratch -B /localscratch -B /localscratch:/temp\"\n",
    "\n",
    "################################## BACTOPIA  #########################################\n",
    "\n",
    "# start environment with dependencies\n",
    "# source /home/mdprieto/bactopia_miguel/bin/activate\n",
    "\n",
    "# run bactopia container\n",
    "cd /scratch/mdprieto/\n",
    "singularity exec $BIND_MOUNT bactopia_2.1.1.sif /bin/bash -c \"bactopia datasets --species 'Vibrio parahaemolyticus' --include_genus --limit 10 --cpu 1  --verbose\""
   ]
  },
  {
   "cell_type": "markdown",
   "id": "246aa0b6-14e0-4ecf-8576-a352309d3801",
   "metadata": {
    "tags": []
   },
   "source": [
    "### Create virtual environment to run bactopia\n",
    "\n",
    "Bactopia has complex requirements for all pipelines. Thus, it's better to create a virtual environment that satisfies all dependencies, as Conda environments are not allowed in Compute Canada. "
   ]
  },
  {
   "cell_type": "code",
   "execution_count": 3,
   "id": "24193462-ca26-41c7-9bc2-7013539ae10d",
   "metadata": {},
   "outputs": [
    {
     "ename": "SyntaxError",
     "evalue": "invalid syntax (3001510046.py, line 4)",
     "output_type": "error",
     "traceback": [
      "\u001b[0;36m  Input \u001b[0;32mIn [3]\u001b[0;36m\u001b[0m\n\u001b[0;31m    module load python/3.8.2\u001b[0m\n\u001b[0m           ^\u001b[0m\n\u001b[0;31mSyntaxError\u001b[0m\u001b[0;31m:\u001b[0m invalid syntax\n"
     ]
    }
   ],
   "source": [
    "import os\n",
    "\n",
    "# create a virtual environment to work with bactopia\n",
    "module load python/3.8.2\n",
    "cd /home/mdprieto\n",
    "virtualenv --no-download bactopia_miguel\n",
    "\n",
    "# activate and set environment packages\n",
    "source /home/mdprieto/bactopia_miguel/bin/activate\n",
    "pip install --no-index --upgrade pip\n",
    "pip3 install requests Bio executor"
   ]
  }
 ],
 "metadata": {
  "kernelspec": {
   "display_name": "Python 3 (ipykernel)",
   "language": "python",
   "name": "python3"
  },
  "language_info": {
   "codemirror_mode": {
    "name": "ipython",
    "version": 3
   },
   "file_extension": ".py",
   "mimetype": "text/x-python",
   "name": "python",
   "nbconvert_exporter": "python",
   "pygments_lexer": "ipython3",
   "version": "3.11.0"
  }
 },
 "nbformat": 4,
 "nbformat_minor": 5
}
