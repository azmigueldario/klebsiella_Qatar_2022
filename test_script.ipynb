{
 "cells": [
  {
   "cell_type": "markdown",
   "id": "9fc6cd21-0c5b-4133-9485-3d511faf8b6f",
   "metadata": {},
   "source": [
    "## Script to test analyses for Qatar _KLebsiella pneumoniae_ project"
   ]
  },
  {
   "cell_type": "code",
   "execution_count": null,
   "id": "d10cca00-077d-47c3-9767-e4389bdc1cae",
   "metadata": {},
   "outputs": [],
   "source": []
  },
  {
   "cell_type": "markdown",
   "id": "f1595493-59c1-4dec-a96b-f574d6a6a1e9",
   "metadata": {},
   "source": [
    "## 20221110 - Define why bactopia datasets works only sometimes"
   ]
  },
  {
   "cell_type": "markdown",
   "id": "012c15b8-cb6d-4840-a59e-576bb590144b",
   "metadata": {},
   "source": [
    "Do not specify a __clear environment__ for singularity \n",
    "- Does not work, even if you specify '-B /localscratch:/temp'  and the location of cache for singularity\n"
   ]
  },
  {
   "cell_type": "code",
   "execution_count": null,
   "id": "26f9991d-3a6a-4b46-b222-158152f404d0",
   "metadata": {},
   "outputs": [],
   "source": [
    "#!/bin/bash\n",
    "#SBATCH --account=rrg-whsiao-ab\n",
    "#SBATCH --mem-per-cpu=4G #  GB of memory per cpu core\n",
    "#SBATCH --time=00:30:00\n",
    "#SBATCH --ntasks=1 # tasks in parallel\n",
    "#SBATCH --cpus-per-task=4 # CPU cores per task\n",
    "#SBATCH --job-name=\"Nov4_kleb\"\n",
    "#SBATCH --chdir=/scratch/mdprieto/\n",
    "#SBATCH --output=temp_results/%j_nov4.out\n",
    "\n",
    "################################## preparation #########################################\n",
    "\n",
    "# load singularity\n",
    "module purge\n",
    "module load singularity/3.8\n",
    "\n",
    "# mount my filesystem inside container, localscratch allows job to use compute node temp folder\n",
    "BIND_MOUNT=\"-B /home -B /project -B /scratch -B /localscratch:/temp\"\n",
    "\n",
    "# define new temp folders for singularity\n",
    "mkdir -p /scratch/$USER/singularity/{cache,tmp}\n",
    "export SINGULARITY_CACHEDIR=\"/scratch/$USER/singularity/cache\"\n",
    "export SINGULARITY_TMPDIR=\"/scratch/$USER/singularity/tmp\"\n",
    "\n",
    "################################## BACTOPIA  #########################################\n",
    "\n",
    "singularity exec $BIND_MOUNT bactopia_2.1.1.sif bactopia datasets \\\n",
    "    --species \"Klebsiella pneumoniae\" \\\n",
    "    --include_genus \\\n",
    "    --limit 100 \\\n",
    "    --cpu 4 \\\n",
    "    --verbose"
   ]
  },
  {
   "cell_type": "markdown",
   "id": "5248c1c9-07c9-42ab-9c64-3648a6abf002",
   "metadata": {},
   "source": [
    "Specify a clear environment with `exec -e`, but do not specify a location for the cache of singularity\n",
    "- No error"
   ]
  },
  {
   "cell_type": "code",
   "execution_count": null,
   "id": "ac36beea-99ca-4721-a5c3-496c4075f190",
   "metadata": {},
   "outputs": [],
   "source": [
    "#!/bin/bash\n",
    "#SBATCH --account=rrg-whsiao-ab\n",
    "#SBATCH --mem-per-cpu=4G #  GB of memory per cpu core\n",
    "#SBATCH --time=00:30:00\n",
    "#SBATCH --ntasks=4 # tasks in parallel\n",
    "#SBATCH --job-name=\"test_kleb_bactopia_nov10\"\n",
    "#SBATCH --chdir=/scratch/mdprieto/\n",
    "#SBATCH --output=./temp_results/nov10_kleb_bactopia_e_temp_nocache.out\n",
    "\n",
    "################################## preparation #########################################\n",
    "\n",
    "# load singularity\n",
    "module purge\n",
    "module load singularity/3.8\n",
    "\n",
    "# mount my filesystem inside container, localscratch allows job to use compute node temp folder\n",
    "BIND_MOUNT=\"-B /home -B /project -B /scratch -B /localscratch -B /localscratch:/temp\"\n",
    "\n",
    "################################## BACTOPIA  #########################################\n",
    "\n",
    "singularity exec -e $BIND_MOUNT bactopia_2.1.1.sif bactopia datasets \\\n",
    "    --species \"Klebsiella pneumoniae\" \\\n",
    "    --include_genus \\\n",
    "    --limit 100 \\\n",
    "    --cpu 4 \\\n",
    "    --verbose"
   ]
  },
  {
   "cell_type": "markdown",
   "id": "4af98e0a-37b3-4851-9636-52603f693f2a",
   "metadata": {},
   "source": [
    "Specify a clear environment with `exec -e` and the location of cache for singularity but do not mount scratch as temp directory\n",
    "- No error"
   ]
  },
  {
   "cell_type": "code",
   "execution_count": null,
   "id": "f0f0bb62-346f-4e79-ab6a-b4feb286c1d9",
   "metadata": {},
   "outputs": [],
   "source": [
    "#!/bin/bash\n",
    "#SBATCH --account=rrg-whsiao-ab\n",
    "#SBATCH --mem-per-cpu=4G #  GB of memory per cpu core\n",
    "#SBATCH --time=00:30:00\n",
    "#SBATCH --ntasks=1 # tasks in parallel\n",
    "#SBATCH --cpus-per-task=4 # CPU cores per task\n",
    "#SBATCH --job-name=\"test_kleb_bactopia_nov10\"\n",
    "#SBATCH --chdir=/scratch/mdprieto/\n",
    "#SBATCH --output=./temp_results/nov10_kleb_bactopia_e_cache_notemp.out\n",
    "\n",
    "################################## preparation #########################################\n",
    "\n",
    "# load singularity\n",
    "module purge\n",
    "module load singularity/3.8\n",
    "\n",
    "# mount my filesystem inside container, localscratch allows job to use compute node temp folder\n",
    "BIND_MOUNT=\"-B /home -B /project -B /scratch -B /localscratch \"\n",
    "\n",
    "# define new temp folders for singularity\n",
    "mkdir -p /scratch/$USER/singularity/{cache,tmp}\n",
    "export SINGULARITY_CACHEDIR=\"/scratch/$USER/singularity/cache\"\n",
    "export SINGULARITY_TMPDIR=\"/scratch/$USER/singularity/tmp\"\n",
    "\n",
    "################################## BACTOPIA  #########################################\n",
    "\n",
    "singularity exec -e $BIND_MOUNT bactopia_2.1.1.sif bactopia datasets \\\n",
    "    --species \"Klebsiella pneumoniae\" \\\n",
    "    --include_genus \\\n",
    "    --limit 100 \\\n",
    "    --cpu 4 \\\n",
    "    --verbose"
   ]
  },
  {
   "cell_type": "markdown",
   "id": "ab2bcead-8266-4f1a-b101-797a5653e6c0",
   "metadata": {},
   "source": [
    "Run it with only a clear environment `exec -e` without specifying where to save the cache for singulatiry or mounting localscratch as temp\n",
    "- No error"
   ]
  },
  {
   "cell_type": "code",
   "execution_count": null,
   "id": "b3086293-627d-4fa2-bce0-0a99cc6e3554",
   "metadata": {},
   "outputs": [],
   "source": [
    "#!/bin/bash\n",
    "#SBATCH --account=rrg-whsiao-ab\n",
    "#SBATCH --mem-per-cpu=4G #  GB of memory per cpu core\n",
    "#SBATCH --time=02:30:00\n",
    "#SBATCH --ntasks=4 # tasks in parallel\n",
    "#SBATCH --job-name=\"setup_datasets_bactopia\"\n",
    "#SBATCH --chdir=/scratch/mdprieto/\n",
    "#SBATCH --output=./temp_results/%j_error_log.out\n",
    "\n",
    "################################## preparation #########################################\n",
    "\n",
    "# load singularity\n",
    "module purge\n",
    "module load singularity/3.8\n",
    "\n",
    "# mount my filesystem inside container, localscratch allows job to use compute node temp folder\n",
    "BIND_MOUNT=\"-B /home -B /project -B /scratch -B /localscratch \"\n",
    "\n",
    "################################## BACTOPIA  #########################################\n",
    "\n",
    "singularity exec -e $BIND_MOUNT bactopia_2.1.1.sif bactopia datasets \\\n",
    "    --species \"Klebsiella pneumoniae\" \\\n",
    "    --include_genus \\\n",
    "    --cpu 4 \\\n",
    "    --verbose"
   ]
  },
  {
   "cell_type": "markdown",
   "id": "6ec5ab69-cc2a-48c1-99a8-0616f3706117",
   "metadata": {},
   "source": [
    "**Conclusion:**\n",
    "The issue seems to be a variable from the environment that was interferring with the singularity run. "
   ]
  },
  {
   "cell_type": "code",
   "execution_count": null,
   "id": "2b2e46a9-b850-4412-8b83-41fefb9d386d",
   "metadata": {},
   "outputs": [],
   "source": []
  }
 ],
 "metadata": {
  "kernelspec": {
   "display_name": "Python 3 (ipykernel)",
   "language": "python",
   "name": "python3"
  },
  "language_info": {
   "codemirror_mode": {
    "name": "ipython",
    "version": 3
   },
   "file_extension": ".py",
   "mimetype": "text/x-python",
   "name": "python",
   "nbconvert_exporter": "python",
   "pygments_lexer": "ipython3",
   "version": "3.11.0"
  }
 },
 "nbformat": 4,
 "nbformat_minor": 5
}
